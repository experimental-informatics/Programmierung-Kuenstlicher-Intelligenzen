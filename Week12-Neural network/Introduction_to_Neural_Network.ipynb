{
 "cells": [
  {
   "cell_type": "markdown",
   "metadata": {},
   "source": [
    "# Introduction to Neural Network\n",
    "\n",
    "![Image](data/mnist2.png)\n",
    "\n",
    "![cloud](https://paglen.studio/wp-content/uploads/2020/06/Paglen-Clouds-01-1024x745.jpg)\n",
    "\n",
    "\n",
    "### TREVOR PAGLEN - Clouds \n",
    "(https://paglen.studio/2020/05/22/clouds/)\n",
    "As part of my ongoing study of how computer vision and AI systems “see” the world, I have a series of works that look at clouds through the “eyes” of various computer vision algorithms. The cloud formations shown in these works are overlaid with strokes and lines depicting what various computer vision algorithms are “seeing” in the images. Different algorithms are designed to look for faces, unique key points, lines, circles, areas of interest, and are attempting to simplify the underlying photograph into a series of sections.\n",
    "\n",
    "### Francis Hunger - Unhype Artificial ‘Intelligence’! A proposal to replace the deceiving terminology of AI. \n",
    "(https://zenodo.org/records/7524493)\n",
    "\n",
    "Language is flexible. Language reflects thought and thinking, as the discussion on language use and gender shows. We can learn how language shapes perception from this discussion of the performativity of language. Imagine the headline “Can statistics be creative?”. We would immediately shake our heads. Statistics? How could one even ask whether statistics can be creative? That is hugely different from the same question in hype lingo: ‘Can Artificial Intelligence be creative?’.\n",
    "\n",
    "Compared to the 1950s, when the metaphor of the computer as a brain was prominent – for instance, in Norbert Wiener’s book *Cybernetics: Or Control and Communication in the Animal and the Machine (1948)* – we now know for a fact that the human brain is not a computer (cf. Peters 2018). Our understanding has shifted, and so can our language.\n",
    "\n",
    "Starting from this realisation, I considered how to change metaphors to speak in a less hyped way. I am not claiming that this is a comprehensive, practical, or fully developed proposal.\n",
    "\n",
    "In a tweet on 9 July 2021, I suggested these new translations:\n",
    "1. Artificial Intelligence => Automated Pattern Recognition\n",
    "2. Machine Learning => Machine Conditioning\n",
    "3. Neural Network => Weighted Network\n",
    "4. Deep Learning => Deep Conditioning\n",
    "5. Neuron => Weight (Hunger 2021)\n",
    "\n",
    "Yarden Katz (Artificial Whiteness: Politics and Ideology in Artificial Intelligence) suggests that \"Artificial Intelligence\" has become a rebranding of systems previously associated with surveillance, allowing for further exploitation of social relations within capitalism. This rebranded AI is now part of seemingly progressive discussions, including corporate academic initiatives. Katz points out the limitations of \"AI ethics\" in addressing issues of data dispossession and capture.\n",
    "\n",
    "This viewpoint is supported by the firing of Timnit Gebru from Google's Ethical Artificial Intelligence Team after co-authoring a paper discussing the environmental and bias-related concerns of large language models. The paper raises the idea that these models, often referred to as \"stochastic parrots,\" can produce coherent but potentially harmful text that enters conversations without accountability."
   ]
  },
  {
   "cell_type": "markdown",
   "metadata": {},
   "source": [
    "## Neuron\n",
    "\n",
    "Santiago Ramón y Cajal (1852-1934) was a Spanish neuroscientist who is widely regarded as one of the founders of modern neuroscience. He is particularly known for his groundbreaking work on the structure of the nervous system, specifically the structure of neurons and the organization of the brain.\n",
    "\n",
    "\n",
    "![Image](https://i.pinimg.com/736x/f4/b6/07/f4b607d9fe731867acc9e0db68fb15d1.jpg)\n"
   ]
  },
  {
   "cell_type": "markdown",
   "metadata": {},
   "source": [
    "## How Might our mind works ?\n",
    "![Image](https://external-content.duckduckgo.com/iu/?u=https%3A%2F%2Fmedia.istockphoto.com%2Fvectors%2Frubin-vase-optical-illusion-vector-id1173073439%3Fk%3D20%26m%3D1173073439%26s%3D612x612%26w%3D0%26h%3Db0GIy-3pORj8dGAd0auymJRYc7f6DWO3lOw0O0MDXpw%3D&f=1&nofb=1&ipt=3d06546d26eb1e9634a0ae423e0ac07f7631301053d4b1365cfe8f3944b66692&ipo=images)"
   ]
  },
  {
   "cell_type": "markdown",
   "metadata": {},
   "source": [
    "## Perceptron\n",
    "American psychologist Frank Rosenblatt (1928-1972) **Perceptron** 1958\n",
    "\n",
    "The **Mark 1 Perceptron** was an early physical machine developed by Frank Rosenblatt in the late 1950s. It was designed to recognize and classify simple geometric shapes, such as circles and squares, based on visual input. \n",
    "\n",
    "- The Mark I Perceptron consisted of a camera to capture visual input, an array of photocells to detect light and dark areas, and a mechanical system that could adjust the weights of connections between these photocells and the Perceptron's neurons.\n",
    "\n",
    "- The primary purpose of the Mark I Perceptron was to demonstrate the concept of a machine that could learn to recognize patterns and make simple decisions based on visual input.\n",
    "\n",
    "- Rosenblatt and his team trained the Mark I Perceptron to distinguish between circles and squares by showing it images of these shapes. The machine adjusted its weights to improve its accuracy over time.\n",
    "\n",
    "- While the Mark I Perceptron showed promise for simple pattern recognition tasks, it had limitations, particularly its inability to handle more complex patterns or nonlinear separations.\n",
    "\n",
    "![](https://external-content.duckduckgo.com/iu/?u=https%3A%2F%2Fbdtechtalks.com%2Fwp-content%2Fuploads%2F2018%2F12%2FMark-1-perceptron-neural-networks-deep-learning.png&f=1&nofb=1&ipt=155142ee2f15f8d444d24aafc3f72660b204e781a84cce7681156f5e358f1929&ipo=images)\n",
    "![](https://external-content.duckduckgo.com/iu/?u=https%3A%2F%2Ftse1.mm.bing.net%2Fth%3Fid%3DOIP.gqADe8bwVFDa-RtTKFdmLQHaF9%26pid%3DApi&f=1&ipt=5c59bda15c03dea60fd8a4faae6ff2f3cc74514f6dc85754e4bd3ae34a8f2198&ipo=images)"
   ]
  },
  {
   "cell_type": "markdown",
   "metadata": {},
   "source": [
    "# MNIST (Modified National Institute of Standards and Technology)\n",
    "\n",
    "The MNIST dataset was created by the National Institute of Standards and Technology (NIST) and modified for machine learning purposes. It was first released in the year 1998. Since then, it has become one of the most well-known and frequently used datasets in the machine learning community for image classification and digit recognition tasks.\n",
    "\n",
    "MNIST comprises a total of 70,000 grayscale images of handwritten digits. These images are of size 28x28 pixels, making them relatively small and easy to work with.\n",
    "\n",
    "**Standard Benchmark**: MNIST has become a standard benchmark dataset in the machine learning community. It's often used to assess the performance of various image classification algorithms and to compare the results of different models.\n",
    "\n",
    "![Image](data/gewichtung.png)\n"
   ]
  },
  {
   "cell_type": "code",
   "execution_count": 8,
   "metadata": {},
   "outputs": [
    {
     "data": {
      "image/png": "[encoded data removed]",
      "text/plain": [
       "<Figure size 720x360 with 10 Axes>"
      ]
     },
     "metadata": {
      "needs_background": "light"
     },
     "output_type": "display_data"
    }
   ],
   "source": [
    "import tensorflow as tf\n",
    "from tensorflow import keras\n",
    "from tensorflow.keras import layers\n",
    "import matplotlib.pyplot as plt\n",
    "\n",
    "# Load and preprocess the MNIST dataset\n",
    "(x_train, y_train), (x_test, y_test) = keras.datasets.mnist.load_data()\n",
    "x_train, x_test = x_train / 255.0, x_test / 255.0  # Normalize pixel values to the range [0, 1]\n",
    "\n",
    "\n",
    "plt.figure(figsize=(10, 5))\n",
    "for i in range(10):\n",
    "    plt.subplot(2, 5, i + 1)\n",
    "    plt.imshow(x_train[i], cmap=plt.cm.binary)\n",
    "    plt.title(f\"Label: {y_train[i]}\")\n",
    "    plt.axis('off')  # Turn off axis labels\n",
    "plt.show()"
   ]
  },
  {
   "cell_type": "markdown",
   "metadata": {},
   "source": [
    "![](data/scale.png)\n",
    "![](data/zwei.png)\n",
    "\n"
   ]
  },
  {
   "cell_type": "code",
   "execution_count": 9,
   "metadata": {},
   "outputs": [
    {
     "name": "stdout",
     "output_type": "stream",
     "text": [
      "Epoch 1/5\n",
      "1875/1875 [==============================] - 2s 809us/step - loss: 0.2962 - accuracy: 0.9138\n",
      "Epoch 2/5\n",
      "1875/1875 [==============================] - 1s 716us/step - loss: 0.1447 - accuracy: 0.9568\n",
      "Epoch 3/5\n",
      "1875/1875 [==============================] - 1s 651us/step - loss: 0.1093 - accuracy: 0.9671\n",
      "Epoch 4/5\n",
      "1875/1875 [==============================] - 1s 654us/step - loss: 0.0907 - accuracy: 0.9726\n",
      "Epoch 5/5\n",
      "1875/1875 [==============================] - 1s 651us/step - loss: 0.0764 - accuracy: 0.9764\n",
      "313/313 - 0s - loss: 0.0730 - accuracy: 0.9782\n",
      "\n",
      "Test accuracy: 0.9782000184059143\n"
     ]
    }
   ],
   "source": [
    "\n",
    "# Build a simple neural network model\n",
    "model = keras.Sequential([\n",
    "    layers.Flatten(input_shape=(28, 28)),  # Flatten the 28x28 images to a 1D array\n",
    "    layers.Dense(128, activation='relu'),  # Fully connected layer with ReLU activation\n",
    "    layers.Dropout(0.2),                   # Dropout layer to prevent overfitting\n",
    "    layers.Dense(10)                       # Output layer with 10 units (one for each digit)\n",
    "])\n",
    "\n",
    "# Compile the model\n",
    "model.compile(optimizer='adam',\n",
    "              loss=tf.keras.losses.SparseCategoricalCrossentropy(from_logits=True),\n",
    "              metrics=['accuracy'])\n",
    "\n",
    "# Train the model on the training data\n",
    "model.fit(x_train, y_train, epochs=5)\n",
    "\n",
    "# Evaluate the model on the test data\n",
    "test_loss, test_accuracy = model.evaluate(x_test, y_test, verbose=2)\n",
    "print(\"\\nTest accuracy:\", test_accuracy)"
   ]
  },
  {
   "cell_type": "code",
   "execution_count": 16,
   "metadata": {},
   "outputs": [
    {
     "data": {
      "image/png": "[encoded data removed]",
      "text/plain": [
       "<Figure size 432x288 with 1 Axes>"
      ]
     },
     "metadata": {
      "needs_background": "light"
     },
     "output_type": "display_data"
    }
   ],
   "source": [
    "# Select a specific image from the test set\n",
    "image_index = 1  # Change this to select a different image\n",
    "sample_image = x_test[image_index]\n",
    "sample_label = y_test[image_index]\n",
    "\n",
    "\n",
    "# Make a prediction for the selected image\n",
    "predictions = model.predict(sample_image.reshape(1, 28, 28))\n",
    "\n",
    "# Display the selected image and its predicted label\n",
    "plt.imshow(sample_image, cmap=plt.cm.binary)\n",
    "plt.title(f\"Label: {sample_label}\\nPredicted: {tf.argmax(predictions, axis=1).numpy()[0]}\")\n",
    "plt.axis('off')\n",
    "plt.show()"
   ]
  },
  {
   "cell_type": "markdown",
   "metadata": {},
   "source": [
    "![02_network_flowchart.png](data/02_network_flowchart.png)"
   ]
  },
  {
   "cell_type": "markdown",
   "metadata": {},
   "source": [
    "## Gradient Descent and Backpropagation \n",
    "\n",
    "Gradient Descent and Backpropagation are two closely related concepts in the training of neural networks. They work together to optimize the network's parameters (weights and biases) and improve its ability to make accurate predictions.\n",
    "\n",
    "**Gradient Descent**: It is an optimization algorithm used to minimize a loss function by adjusting the parameters (weights and biases) of a neural network. The main goal is to find the best set of parameters that minimize the prediction error.\n",
    "\n",
    "**Backpropagation**: It is a method for calculating gradients of the loss function with respect to the network's parameters. It is used to understand how much each parameter should be adjusted to minimize the loss.\n",
    "\n",
    "### **Gradient Descent:**\n",
    "\n",
    "Imagine you're trying to find the lowest point in a hilly area by taking small steps. To do this, you need to know which direction to go and how big each step should be. Gradient Descent is like a method that helps a computer figure this out when it's trying to solve problems. \n",
    "\n",
    "Think of a computer as trying to adjust some knobs to make accurate predictions, like guessing numbers in a game. These knobs are like the settings of a machine learning model. Gradient Descent is a way for the computer to find the best settings to make its guesses as accurate as possible.\n",
    "\n",
    "So, it takes a small step in the right direction to improve its guesses and keeps doing this until it gets really close to the best settings. The size of the steps it takes is controlled by something called a \"learning rate,\" which is like how big each step should be.\n",
    "\n",
    "![](https://external-content.duckduckgo.com/iu/?u=https%3A%2F%2Fmiro.medium.com%2Fproxy%2F1*f9a162GhpMbiTVTAua_lLQ.png&f=1&nofb=1&ipt=1cf0538b6ca9de7b664216e137222136c1dabaae067f16dcc1b34d141ccba321&ipo=images)\n",
    "### **Backpropagation:**\n",
    "Imagine you're making guesses in a game, like guessing a number or solving a puzzle. You need to know if your guess is right or wrong. Backpropagation is similar. It's like checking your guesses and figuring out where you went wrong.\n",
    "\n",
    "When you make a guess (or a prediction), you compare it to the correct answer. If your guess is way off, you want to know which part of your thinking led to that mistake. Backpropagation helps you understand that. It goes backward, step by step, through your thinking process and tells you which parts need fixing.\n",
    "\n",
    "![](https://www.startpage.com/av/proxy-image?piurl=https%3A%2F%2Feditor.analyticsvidhya.com%2Fuploads%2F18870backprop2.png&sp=1706172080Tfbe7ff47f4cf4ef9f9ded45570220073fbceafe209d068331d3826d582add8f3)"
   ]
  },
  {
   "cell_type": "markdown",
   "metadata": {},
   "source": [
    "### List of Material\n",
    "\n",
    "https://www.youtube.com/watch?v=aircAruvnKk Deep Learning\n",
    "\n",
    "https://www.youtube.com/watch?v=flXrLGPY3SU What is ChatGPT\n",
    "\n",
    "https://www.youtube.com/watch?v=TpMIssRdhco What is GAN"
   ]
  }
 ],
 "metadata": {
  "kernelspec": {
   "display_name": "Python 3",
   "language": "python",
   "name": "python3"
  },
  "language_info": {
   "codemirror_mode": {
    "name": "ipython",
    "version": 3
   },
   "file_extension": ".py",
   "mimetype": "text/x-python",
   "name": "python",
   "nbconvert_exporter": "python",
   "pygments_lexer": "ipython3",
   "version": "3.8.3"
  }
 },
 "nbformat": 4,
 "nbformat_minor": 4
}
